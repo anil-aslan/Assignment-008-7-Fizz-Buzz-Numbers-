{
  "nbformat": 4,
  "nbformat_minor": 0,
  "metadata": {
    "colab": {
      "name": "pyhton assignment github",
      "provenance": [],
      "authorship_tag": "ABX9TyNz/tpG6OCb0lyOW22i8cE0",
      "include_colab_link": true
    },
    "kernelspec": {
      "name": "python3",
      "display_name": "Python 3"
    },
    "language_info": {
      "name": "python"
    }
  },
  "cells": [
    {
      "cell_type": "markdown",
      "metadata": {
        "id": "view-in-github",
        "colab_type": "text"
      },
      "source": [
        "<a href=\"https://colab.research.google.com/github/anil-aslan/Assignment-008-7-Fizz-Buzz-Numbers-/blob/main/pyhton_assignment_github.ipynb\" target=\"_parent\"><img src=\"https://colab.research.google.com/assets/colab-badge.svg\" alt=\"Open In Colab\"/></a>"
      ]
    },
    {
      "cell_type": "code",
      "metadata": {
        "id": "6cQRaAcxux0h"
      },
      "source": [
        "for i in range(1,101) :\n",
        "    if i%15 == 0 :\n",
        "        print(\"FizzBuzz\")\n",
        "    elif i%5 == 0 :\n",
        "        print(\"Buzz\")\n",
        "    elif i%3 == 0 :\n",
        "        print(\"Fizz\")\n",
        "    else :\n",
        "        print(i)"
      ],
      "execution_count": null,
      "outputs": []
    },
    {
      "cell_type": "code",
      "metadata": {
        "id": "FNkRdh5Su4Hf",
        "colab": {
          "base_uri": "https://localhost:8080/"
        },
        "outputId": "53380d06-f882-4031-b67a-f3da1e08bf97"
      },
      "source": [
        "\n",
        "\n",
        "\n"
      ],
      "execution_count": null,
      "outputs": [
        {
          "output_type": "execute_result",
          "data": {
            "text/plain": [
              "[2]"
            ]
          },
          "metadata": {
            "tags": []
          },
          "execution_count": 19
        }
      ]
    }
  ]
}